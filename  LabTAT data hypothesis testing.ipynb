{
 "cells": [
  {
   "cell_type": "code",
   "execution_count": 30,
   "metadata": {},
   "outputs": [],
   "source": [
    "import pandas as pd\n",
    "# import numpy as np\n",
    "import scipy \n",
    "from scipy import stats\n",
    "import statsmodels.api as sm\n",
    "from statsmodels.formula.api import ols"
   ]
  },
  {
   "cell_type": "code",
   "execution_count": 21,
   "metadata": {},
   "outputs": [
    {
     "data": {
      "text/html": [
       "<div>\n",
       "<style scoped>\n",
       "    .dataframe tbody tr th:only-of-type {\n",
       "        vertical-align: middle;\n",
       "    }\n",
       "\n",
       "    .dataframe tbody tr th {\n",
       "        vertical-align: top;\n",
       "    }\n",
       "\n",
       "    .dataframe thead th {\n",
       "        text-align: right;\n",
       "    }\n",
       "</style>\n",
       "<table border=\"1\" class=\"dataframe\">\n",
       "  <thead>\n",
       "    <tr style=\"text-align: right;\">\n",
       "      <th></th>\n",
       "      <th>Laboratory1</th>\n",
       "      <th>Laboratory2</th>\n",
       "      <th>Laboratory3</th>\n",
       "      <th>Laboratory4</th>\n",
       "    </tr>\n",
       "  </thead>\n",
       "  <tbody>\n",
       "    <tr>\n",
       "      <th>0</th>\n",
       "      <td>185.35</td>\n",
       "      <td>165.53</td>\n",
       "      <td>176.70</td>\n",
       "      <td>166.13</td>\n",
       "    </tr>\n",
       "    <tr>\n",
       "      <th>1</th>\n",
       "      <td>170.49</td>\n",
       "      <td>185.91</td>\n",
       "      <td>198.45</td>\n",
       "      <td>160.79</td>\n",
       "    </tr>\n",
       "    <tr>\n",
       "      <th>2</th>\n",
       "      <td>192.77</td>\n",
       "      <td>194.92</td>\n",
       "      <td>201.23</td>\n",
       "      <td>185.18</td>\n",
       "    </tr>\n",
       "    <tr>\n",
       "      <th>3</th>\n",
       "      <td>177.33</td>\n",
       "      <td>183.00</td>\n",
       "      <td>199.61</td>\n",
       "      <td>176.42</td>\n",
       "    </tr>\n",
       "    <tr>\n",
       "      <th>4</th>\n",
       "      <td>193.41</td>\n",
       "      <td>169.57</td>\n",
       "      <td>204.63</td>\n",
       "      <td>152.60</td>\n",
       "    </tr>\n",
       "    <tr>\n",
       "      <th>...</th>\n",
       "      <td>...</td>\n",
       "      <td>...</td>\n",
       "      <td>...</td>\n",
       "      <td>...</td>\n",
       "    </tr>\n",
       "    <tr>\n",
       "      <th>115</th>\n",
       "      <td>178.49</td>\n",
       "      <td>170.66</td>\n",
       "      <td>193.80</td>\n",
       "      <td>172.68</td>\n",
       "    </tr>\n",
       "    <tr>\n",
       "      <th>116</th>\n",
       "      <td>176.08</td>\n",
       "      <td>183.98</td>\n",
       "      <td>215.25</td>\n",
       "      <td>177.64</td>\n",
       "    </tr>\n",
       "    <tr>\n",
       "      <th>117</th>\n",
       "      <td>202.48</td>\n",
       "      <td>174.54</td>\n",
       "      <td>203.99</td>\n",
       "      <td>170.27</td>\n",
       "    </tr>\n",
       "    <tr>\n",
       "      <th>118</th>\n",
       "      <td>182.40</td>\n",
       "      <td>197.18</td>\n",
       "      <td>194.52</td>\n",
       "      <td>150.87</td>\n",
       "    </tr>\n",
       "    <tr>\n",
       "      <th>119</th>\n",
       "      <td>182.09</td>\n",
       "      <td>215.17</td>\n",
       "      <td>221.49</td>\n",
       "      <td>162.21</td>\n",
       "    </tr>\n",
       "  </tbody>\n",
       "</table>\n",
       "<p>120 rows × 4 columns</p>\n",
       "</div>"
      ],
      "text/plain": [
       "     Laboratory1  Laboratory2  Laboratory3  Laboratory4\n",
       "0         185.35       165.53       176.70       166.13\n",
       "1         170.49       185.91       198.45       160.79\n",
       "2         192.77       194.92       201.23       185.18\n",
       "3         177.33       183.00       199.61       176.42\n",
       "4         193.41       169.57       204.63       152.60\n",
       "..           ...          ...          ...          ...\n",
       "115       178.49       170.66       193.80       172.68\n",
       "116       176.08       183.98       215.25       177.64\n",
       "117       202.48       174.54       203.99       170.27\n",
       "118       182.40       197.18       194.52       150.87\n",
       "119       182.09       215.17       221.49       162.21\n",
       "\n",
       "[120 rows x 4 columns]"
      ]
     },
     "execution_count": 21,
     "metadata": {},
     "output_type": "execute_result"
    }
   ],
   "source": [
    "f=pd.read_csv(\"LabTAT.csv\")\n",
    "f"
   ]
  },
  {
   "cell_type": "code",
   "execution_count": 6,
   "metadata": {},
   "outputs": [],
   "source": [
    "f.columns=\"Laboratory 1\",\"Laboratory 2\",\"Laboratory 3\",\"Laboratory 4\""
   ]
  },
  {
   "cell_type": "code",
   "execution_count": 24,
   "metadata": {},
   "outputs": [
    {
     "name": "stdout",
     "output_type": "stream",
     "text": [
      "ShapiroResult(statistic=0.9901824593544006, pvalue=0.5506953597068787)\n",
      "ShapiroResult(statistic=0.9936322569847107, pvalue=0.8637524843215942)\n",
      "ShapiroResult(statistic=0.9886345267295837, pvalue=0.4205053448677063)\n"
     ]
    }
   ],
   "source": [
    "#HO:data is normally distributed\n",
    "#HA:data is not nrmally distributed\n",
    "#if pval>0.05 accept H0\n",
    "print(stats.shapiro(f.Laboratory1))\n",
    "print(stats.shapiro(f.Laboratory2))\n",
    "print(stats.shapiro(f.Laboratory3))\n",
    "print(stats.shapiro(f.Laboratory4))"
   ]
  },
  {
   "cell_type": "code",
   "execution_count": 38,
   "metadata": {},
   "outputs": [
    {
     "name": "stdout",
     "output_type": "stream",
     "text": [
      "LeveneResult(statistic=3.5495027780905763, pvalue=0.06078228171776711)\n",
      "LeveneResult(statistic=0.9441465124387124, pvalue=0.33220021420602397)\n",
      "LeveneResult(statistic=2.037958464521512, pvalue=0.15472618294425391)\n",
      "LeveneResult(statistic=2.037958464521512, pvalue=0.15472618294425391)\n"
     ]
    }
   ],
   "source": [
    "#HO:variance is equal\n",
    "#HA:variance is not equal\n",
    "#if pval>0.05 accept H0\n",
    "print(stats.levene(f.Laboratory1,f.Laboratory2 ))#variance is equal\n",
    "print(stats.levene(f.Laboratory2,f.Laboratory3))#variance is equal\n",
    "print(stats.levene(f.Laboratory3,f.Laboratory4))#variance is   equal\n",
    "print(stats.levene(f.Laboratory3,f.Laboratory4))#variance is   equal"
   ]
  },
  {
   "cell_type": "code",
   "execution_count": 42,
   "metadata": {},
   "outputs": [
    {
     "name": "stdout",
     "output_type": "stream",
     "text": [
      "                  df        sum_sq     mean_sq         F    PR(>F)\n",
      "f.Laboratory2    1.0    332.030416  332.030416  1.940311  0.166299\n",
      "f.Laboratory3    1.0    203.853111  203.853111  1.191271  0.277335\n",
      "f.Laboratory4    1.0    265.614707  265.614707  1.552192  0.215323\n",
      "Residual       116.0  19850.186366  171.122296       NaN       NaN\n"
     ]
    },
    {
     "data": {
      "text/plain": [
       "F_onewayResult(statistic=118.70421654401437, pvalue=2.1156708949992414e-57)"
      ]
     },
     "execution_count": 42,
     "metadata": {},
     "output_type": "execute_result"
    }
   ],
   "source": [
    "#HO:groups mean is equal\n",
    "#HA:groups mean is not equal\n",
    "#if pval>0.05 accept H0\n",
    "mod=ols('f.Laboratory1~(f.Laboratory2+f.Laboratory3+f.Laboratory4)',data=f).fit()\n",
    "aov_table=sm.stats.anova_lm(mod)\n",
    "print(aov_table)\n",
    "stats.f_oneway(f.iloc[:,0], f.iloc[:,1],f.iloc[:,2],f.iloc[:,3])\n",
    "#mean is not equal\n",
    "#there is   difference in average TAT among the different laboratories at 5% significance level.\n"
   ]
  }
 ],
 "metadata": {
  "kernelspec": {
   "display_name": "Python 3",
   "language": "python",
   "name": "python3"
  },
  "language_info": {
   "codemirror_mode": {
    "name": "ipython",
    "version": 3
   },
   "file_extension": ".py",
   "mimetype": "text/x-python",
   "name": "python",
   "nbconvert_exporter": "python",
   "pygments_lexer": "ipython3",
   "version": "3.8.3"
  },
  "varInspector": {
   "cols": {
    "lenName": 16,
    "lenType": 16,
    "lenVar": 40
   },
   "kernels_config": {
    "python": {
     "delete_cmd_postfix": "",
     "delete_cmd_prefix": "del ",
     "library": "var_list.py",
     "varRefreshCmd": "print(var_dic_list())"
    },
    "r": {
     "delete_cmd_postfix": ") ",
     "delete_cmd_prefix": "rm(",
     "library": "var_list.r",
     "varRefreshCmd": "cat(var_dic_list()) "
    }
   },
   "types_to_exclude": [
    "module",
    "function",
    "builtin_function_or_method",
    "instance",
    "_Feature"
   ],
   "window_display": false
  }
 },
 "nbformat": 4,
 "nbformat_minor": 4
}
